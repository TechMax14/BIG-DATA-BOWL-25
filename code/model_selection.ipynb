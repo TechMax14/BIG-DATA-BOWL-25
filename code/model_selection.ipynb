{
 "cells": [
  {
   "cell_type": "code",
   "execution_count": 36,
   "id": "b4ce256c-93ad-4352-96ec-72bf22fc23e5",
   "metadata": {
    "tags": []
   },
   "outputs": [
    {
     "name": "stdout",
     "output_type": "stream",
     "text": [
      "(14040, 13)\n",
      "(14040, 1)\n",
      "Logistic Regression Accuracy: 0.8856837606837606\n",
      "              precision    recall  f1-score   support\n",
      "\n",
      "           0       0.83      0.94      0.88      1230\n",
      "           1       0.94      0.85      0.89      1578\n",
      "\n",
      "    accuracy                           0.89      2808\n",
      "   macro avg       0.89      0.89      0.89      2808\n",
      "weighted avg       0.89      0.89      0.89      2808\n",
      "\n"
     ]
    },
    {
     "name": "stderr",
     "output_type": "stream",
     "text": [
      "C:\\Users\\fishm\\anaconda3\\lib\\site-packages\\sklearn\\utils\\validation.py:1183: DataConversionWarning: A column-vector y was passed when a 1d array was expected. Please change the shape of y to (n_samples, ), for example using ravel().\n",
      "  y = column_or_1d(y, warn=True)\n",
      "C:\\Users\\fishm\\anaconda3\\lib\\site-packages\\sklearn\\base.py:1152: DataConversionWarning: A column-vector y was passed when a 1d array was expected. Please change the shape of y to (n_samples,), for example using ravel().\n",
      "  return fit_method(estimator, *args, **kwargs)\n"
     ]
    },
    {
     "name": "stdout",
     "output_type": "stream",
     "text": [
      "Random Forest Accuracy: 0.8885327635327636\n",
      "              precision    recall  f1-score   support\n",
      "\n",
      "           0       0.84      0.92      0.88      1230\n",
      "           1       0.93      0.87      0.90      1578\n",
      "\n",
      "    accuracy                           0.89      2808\n",
      "   macro avg       0.89      0.89      0.89      2808\n",
      "weighted avg       0.89      0.89      0.89      2808\n",
      "\n"
     ]
    }
   ],
   "source": [
    "import pandas as pd\n",
    "import matplotlib.pyplot as plt\n",
    "import numpy as np\n",
    "from sklearn.preprocessing import StandardScaler\n",
    "from sklearn.model_selection import train_test_split\n",
    "from sklearn.linear_model import LogisticRegression\n",
    "from sklearn.ensemble import RandomForestClassifier\n",
    "from sklearn.metrics import accuracy_score, classification_report\n",
    "import joblib\n",
    "\n",
    "# Load the datasets (ensure correct paths and files)\n",
    "train_features = pd.read_csv('../data/processed_data/training_features.csv')\n",
    "train_labels = pd.read_csv('../data/processed_data/train_labels.csv')\n",
    "\n",
    "# Ensure train_labels is properly aligned\n",
    "if train_labels.shape[1] > 1:\n",
    "    train_labels = train_labels.iloc[:, 0]\n",
    "\n",
    "print(train_features.shape)\n",
    "print(train_labels.shape)\n",
    "\n",
    "# Split your dataset\n",
    "X_train, X_test, y_train, y_test = train_test_split(train_features, train_labels, test_size=0.2, random_state=42)\n",
    "\n",
    "# Scale features for Logistic Regression\n",
    "scaler = StandardScaler()\n",
    "X_train_scaled = scaler.fit_transform(X_train)\n",
    "X_test_scaled = scaler.transform(X_test)\n",
    "\n",
    "# Apply L1 Regularization (Lasso) Logistic Regression\n",
    "log_reg_l1 = LogisticRegression(penalty='l1', solver='liblinear', C=1.0)  # C controls regularization strength\n",
    "log_reg_l1.fit(X_train_scaled, y_train)\n",
    "\n",
    "# Predict with Logistic Regression\n",
    "y_pred = log_reg_l1.predict(X_test_scaled)\n",
    "print(\"Logistic Regression Accuracy:\", accuracy_score(y_test, y_pred))\n",
    "print(classification_report(y_test, y_pred))\n",
    "\n",
    "# Random Forest (no scaling needed)\n",
    "rf_model = RandomForestClassifier(random_state=42)\n",
    "rf_model.fit(X_train, y_train)\n",
    "rf_preds = rf_model.predict(X_test)\n",
    "\n",
    "# Evaluate Random Forest\n",
    "print(\"Random Forest Accuracy:\", accuracy_score(y_test, rf_preds))\n",
    "print(classification_report(y_test, rf_preds))\n",
    "\n",
    "# Export the trained Logistic Regression model\n",
    "#joblib.dump(log_reg_l1, 'logreg_model.pkl')  # Save the model to a file\n"
   ]
  },
  {
   "cell_type": "code",
   "execution_count": 39,
   "id": "77d9c8f9-1ec5-4339-959c-1d463e1865d9",
   "metadata": {
    "tags": []
   },
   "outputs": [
    {
     "name": "stdout",
     "output_type": "stream",
     "text": [
      "Fitting 5 folds for each of 10 candidates, totalling 50 fits\n"
     ]
    },
    {
     "name": "stderr",
     "output_type": "stream",
     "text": [
      "C:\\Users\\fishm\\anaconda3\\lib\\site-packages\\sklearn\\utils\\validation.py:1183: DataConversionWarning: A column-vector y was passed when a 1d array was expected. Please change the shape of y to (n_samples, ), for example using ravel().\n",
      "  y = column_or_1d(y, warn=True)\n"
     ]
    },
    {
     "name": "stdout",
     "output_type": "stream",
     "text": [
      "Fitting 5 folds for each of 216 candidates, totalling 1080 fits\n"
     ]
    },
    {
     "name": "stderr",
     "output_type": "stream",
     "text": [
      "C:\\Users\\fishm\\anaconda3\\lib\\site-packages\\sklearn\\base.py:1152: DataConversionWarning: A column-vector y was passed when a 1d array was expected. Please change the shape of y to (n_samples,), for example using ravel().\n",
      "  return fit_method(estimator, *args, **kwargs)\n"
     ]
    },
    {
     "name": "stdout",
     "output_type": "stream",
     "text": [
      "Logistic Regression Accuracy: 0.8856837606837606\n",
      "Random Forest Accuracy: 0.8938746438746439\n",
      "Logistic Regression Classification Report:\n",
      "               precision    recall  f1-score   support\n",
      "\n",
      "           0       0.83      0.94      0.88      1230\n",
      "           1       0.94      0.85      0.89      1578\n",
      "\n",
      "    accuracy                           0.89      2808\n",
      "   macro avg       0.89      0.89      0.89      2808\n",
      "weighted avg       0.89      0.89      0.89      2808\n",
      "\n",
      "Random Forest Classification Report:\n",
      "               precision    recall  f1-score   support\n",
      "\n",
      "           0       0.84      0.93      0.88      1230\n",
      "           1       0.94      0.87      0.90      1578\n",
      "\n",
      "    accuracy                           0.89      2808\n",
      "   macro avg       0.89      0.90      0.89      2808\n",
      "weighted avg       0.90      0.89      0.89      2808\n",
      "\n",
      "Logistic Regression ROC-AUC: 0.9239198532669737\n",
      "Random Forest ROC-AUC: 0.9336867703277794\n"
     ]
    }
   ],
   "source": [
    "from sklearn.ensemble import RandomForestClassifier\n",
    "from sklearn.linear_model import LogisticRegression\n",
    "from sklearn.model_selection import GridSearchCV\n",
    "from sklearn.metrics import accuracy_score, classification_report, roc_auc_score\n",
    "from sklearn.preprocessing import StandardScaler\n",
    "\n",
    "# Scale features for Logistic Regression\n",
    "scaler = StandardScaler()\n",
    "X_train_scaled = scaler.fit_transform(X_train)\n",
    "X_test_scaled = scaler.transform(X_test)\n",
    "\n",
    "# Define parameter grid for Logistic Regression\n",
    "param_grid_lr = {\n",
    "    'C': [0.01, 0.1, 1, 10, 100],\n",
    "    'penalty': ['l1', 'l2'],\n",
    "    'solver': ['liblinear']  # 'liblinear' supports L1 regularization\n",
    "}\n",
    "\n",
    "# Define parameter grid for Random Forest\n",
    "param_grid_rf = {\n",
    "    'n_estimators': [100, 200, 300],\n",
    "    'max_depth': [5, 10, 15, None],\n",
    "    'min_samples_split': [2, 5, 10],\n",
    "    'min_samples_leaf': [1, 2, 4],\n",
    "    'max_features': ['sqrt', 'log2']  # Removed 'auto' to avoid deprecation warning\n",
    "}\n",
    "\n",
    "# Initialize models\n",
    "log_reg = LogisticRegression()\n",
    "rf = RandomForestClassifier(random_state=42)\n",
    "\n",
    "# Perform GridSearchCV to tune hyperparameters\n",
    "grid_search_lr = GridSearchCV(log_reg, param_grid_lr, cv=5, n_jobs=-1, scoring='accuracy', verbose=1)\n",
    "grid_search_lr.fit(X_train_scaled, y_train)  # Logistic Regression uses scaled features\n",
    "\n",
    "grid_search_rf = GridSearchCV(rf, param_grid_rf, cv=5, n_jobs=-1, scoring='accuracy', verbose=1)\n",
    "grid_search_rf.fit(X_train, y_train)  # Random Forest uses unscaled features\n",
    "\n",
    "# Fit the best models and predict\n",
    "best_log_reg = grid_search_lr.best_estimator_\n",
    "best_rf = grid_search_rf.best_estimator_\n",
    "\n",
    "log_reg_pred = best_log_reg.predict(X_test_scaled)\n",
    "rf_pred = best_rf.predict(X_test)\n",
    "\n",
    "# Predicted probabilities for ROC-AUC\n",
    "log_reg_pred_proba = best_log_reg.predict_proba(X_test_scaled)[:, 1]\n",
    "rf_pred_proba = best_rf.predict_proba(X_test)[:, 1]\n",
    "\n",
    "# Print Accuracy\n",
    "print(\"Logistic Regression Accuracy:\", accuracy_score(y_test, log_reg_pred))\n",
    "print(\"Random Forest Accuracy:\", accuracy_score(y_test, rf_pred))\n",
    "\n",
    "# Print Classification Reports\n",
    "print(\"Logistic Regression Classification Report:\\n\", classification_report(y_test, log_reg_pred))\n",
    "print(\"Random Forest Classification Report:\\n\", classification_report(y_test, rf_pred))\n",
    "\n",
    "# ROC-AUC Score\n",
    "print(\"Logistic Regression ROC-AUC:\", roc_auc_score(y_test, log_reg_pred_proba))\n",
    "print(\"Random Forest ROC-AUC:\", roc_auc_score(y_test, rf_pred_proba))\n"
   ]
  },
  {
   "cell_type": "code",
   "execution_count": 41,
   "id": "95db493e-2618-4d24-af3c-beb5b5c5f6f9",
   "metadata": {
    "tags": []
   },
   "outputs": [
    {
     "data": {
      "image/png": "[encoded data removed]",
      "text/plain": [
       "<Figure size 1000x500 with 4 Axes>"
      ]
     },
     "metadata": {},
     "output_type": "display_data"
    }
   ],
   "source": [
    "from sklearn.metrics import confusion_matrix\n",
    "import seaborn as sns\n",
    "import matplotlib.pyplot as plt\n",
    "\n",
    "# Compute confusion matrices\n",
    "conf_matrix_logreg = confusion_matrix(y_test, log_reg_pred)\n",
    "conf_matrix_rf = confusion_matrix(y_test, rf_pred)\n",
    "\n",
    "# Plot confusion matrix for Logistic Regression\n",
    "plt.figure(figsize=(10, 5))\n",
    "plt.subplot(1, 2, 1)\n",
    "sns.heatmap(conf_matrix_logreg, annot=True, fmt='d', cmap='Blues', xticklabels=['Class 0', 'Class 1'], yticklabels=['Class 0', 'Class 1'])\n",
    "plt.title('Logistic Regression Confusion Matrix')\n",
    "plt.xlabel('Predicted')\n",
    "plt.ylabel('Actual')\n",
    "\n",
    "# Plot confusion matrix for Random Forest\n",
    "plt.subplot(1, 2, 2)\n",
    "sns.heatmap(conf_matrix_rf, annot=True, fmt='d', cmap='Blues', xticklabels=['Class 0', 'Class 1'], yticklabels=['Class 0', 'Class 1'])\n",
    "plt.title('Random Forest Confusion Matrix')\n",
    "plt.xlabel('Predicted')\n",
    "plt.ylabel('Actual')\n",
    "\n",
    "plt.tight_layout()\n",
    "\n",
    "plt.savefig('../visuals/Model Results/LRvsRF_hyptertuned_confusion_matrix.png', bbox_inches='tight')\n",
    "\n",
    "plt.show()\n"
   ]
  },
  {
   "cell_type": "code",
   "execution_count": null,
   "id": "94294f84-f6e3-4d3f-84e0-fae4569a92b0",
   "metadata": {},
   "outputs": [],
   "source": []
  },
  {
   "cell_type": "code",
   "execution_count": null,
   "id": "239e17ac-02e0-47ab-b2e7-3cba069d0d31",
   "metadata": {},
   "outputs": [],
   "source": []
  },
  {
   "cell_type": "code",
   "execution_count": null,
   "id": "494fa7c0-27d6-4f0b-b3df-1cbf043115cc",
   "metadata": {},
   "outputs": [],
   "source": []
  },
  {
   "cell_type": "code",
   "execution_count": null,
   "id": "cc02952e-cbaa-4eac-a83a-7af1d8331176",
   "metadata": {},
   "outputs": [],
   "source": []
  },
  {
   "cell_type": "code",
   "execution_count": 37,
   "id": "a1c6d6d8-1841-4ff8-8201-af9fea9e9e42",
   "metadata": {
    "tags": []
   },
   "outputs": [
    {
     "name": "stderr",
     "output_type": "stream",
     "text": [
      "C:\\Users\\fishm\\anaconda3\\lib\\site-packages\\sklearn\\utils\\validation.py:1183: DataConversionWarning: A column-vector y was passed when a 1d array was expected. Please change the shape of y to (n_samples, ), for example using ravel().\n",
      "  y = column_or_1d(y, warn=True)\n",
      "C:\\Users\\fishm\\anaconda3\\lib\\site-packages\\sklearn\\model_selection\\_validation.py:425: FitFailedWarning: \n",
      "540 fits failed out of a total of 1620.\n",
      "The score on these train-test partitions for these parameters will be set to nan.\n",
      "If these failures are not expected, you can try to debug them by setting error_score='raise'.\n",
      "\n",
      "Below are more details about the failures:\n",
      "--------------------------------------------------------------------------------\n",
      "280 fits failed with the following error:\n",
      "Traceback (most recent call last):\n",
      "  File \"C:\\Users\\fishm\\anaconda3\\lib\\site-packages\\sklearn\\model_selection\\_validation.py\", line 729, in _fit_and_score\n",
      "    estimator.fit(X_train, y_train, **fit_params)\n",
      "  File \"C:\\Users\\fishm\\anaconda3\\lib\\site-packages\\sklearn\\base.py\", line 1145, in wrapper\n",
      "    estimator._validate_params()\n",
      "  File \"C:\\Users\\fishm\\anaconda3\\lib\\site-packages\\sklearn\\base.py\", line 638, in _validate_params\n",
      "    validate_parameter_constraints(\n",
      "  File \"C:\\Users\\fishm\\anaconda3\\lib\\site-packages\\sklearn\\utils\\_param_validation.py\", line 95, in validate_parameter_constraints\n",
      "    raise InvalidParameterError(\n",
      "sklearn.utils._param_validation.InvalidParameterError: The 'max_features' parameter of RandomForestClassifier must be an int in the range [1, inf), a float in the range (0.0, 1.0], a str among {'log2', 'sqrt'} or None. Got 'auto' instead.\n",
      "\n",
      "--------------------------------------------------------------------------------\n",
      "260 fits failed with the following error:\n",
      "Traceback (most recent call last):\n",
      "  File \"C:\\Users\\fishm\\anaconda3\\lib\\site-packages\\sklearn\\model_selection\\_validation.py\", line 729, in _fit_and_score\n",
      "    estimator.fit(X_train, y_train, **fit_params)\n",
      "  File \"C:\\Users\\fishm\\anaconda3\\lib\\site-packages\\sklearn\\base.py\", line 1145, in wrapper\n",
      "    estimator._validate_params()\n",
      "  File \"C:\\Users\\fishm\\anaconda3\\lib\\site-packages\\sklearn\\base.py\", line 638, in _validate_params\n",
      "    validate_parameter_constraints(\n",
      "  File \"C:\\Users\\fishm\\anaconda3\\lib\\site-packages\\sklearn\\utils\\_param_validation.py\", line 95, in validate_parameter_constraints\n",
      "    raise InvalidParameterError(\n",
      "sklearn.utils._param_validation.InvalidParameterError: The 'max_features' parameter of RandomForestClassifier must be an int in the range [1, inf), a float in the range (0.0, 1.0], a str among {'sqrt', 'log2'} or None. Got 'auto' instead.\n",
      "\n",
      "  warnings.warn(some_fits_failed_message, FitFailedWarning)\n",
      "C:\\Users\\fishm\\anaconda3\\lib\\site-packages\\sklearn\\model_selection\\_search.py:979: UserWarning: One or more of the test scores are non-finite: [       nan        nan        nan        nan        nan        nan\n",
      "        nan        nan        nan        nan        nan        nan\n",
      "        nan        nan        nan        nan        nan        nan\n",
      "        nan        nan        nan        nan        nan        nan\n",
      "        nan        nan        nan 0.89699162 0.89743693 0.89734784\n",
      " 0.89663555 0.89708082 0.89725888 0.89663551 0.89681364 0.89681364\n",
      " 0.8973478  0.89761503 0.89716991 0.89725868 0.89716983 0.89699173\n",
      " 0.89716955 0.89699173 0.89716975 0.89690257 0.89645753 0.89699177\n",
      " 0.89690257 0.89645753 0.89699177 0.89699158 0.89690269 0.89699169\n",
      " 0.89699162 0.89743693 0.89734784 0.89663555 0.89708082 0.89725888\n",
      " 0.89663551 0.89681364 0.89681364 0.8973478  0.89761503 0.89716991\n",
      " 0.89725868 0.89716983 0.89699173 0.89716955 0.89699173 0.89716975\n",
      " 0.89690257 0.89645753 0.89699177 0.89690257 0.89645753 0.89699177\n",
      " 0.89699158 0.89690269 0.89699169        nan        nan        nan\n",
      "        nan        nan        nan        nan        nan        nan\n",
      "        nan        nan        nan        nan        nan        nan\n",
      "        nan        nan        nan        nan        nan        nan\n",
      "        nan        nan        nan        nan        nan        nan\n",
      " 0.9024225  0.90251155 0.90224445 0.90126529 0.90179953 0.90179945\n",
      " 0.9016214  0.9026006  0.90153227 0.90126537 0.90197762 0.90206667\n",
      " 0.90108719 0.90162151 0.90179949 0.90215548 0.90277853 0.90224445\n",
      " 0.90144318 0.90171048 0.90197755 0.90144318 0.90171048 0.90197755\n",
      " 0.90090902 0.90144326 0.90153231 0.9024225  0.90251155 0.90224445\n",
      " 0.90126529 0.90179953 0.90179945 0.9016214  0.9026006  0.90153227\n",
      " 0.90126537 0.90197762 0.90206667 0.90108719 0.90162151 0.90179949\n",
      " 0.90215548 0.90277853 0.90224445 0.90144318 0.90171048 0.90197755\n",
      " 0.90144318 0.90171048 0.90197755 0.90090902 0.90144326 0.90153231\n",
      "        nan        nan        nan        nan        nan        nan\n",
      "        nan        nan        nan        nan        nan        nan\n",
      "        nan        nan        nan        nan        nan        nan\n",
      "        nan        nan        nan        nan        nan        nan\n",
      "        nan        nan        nan 0.90242262 0.90358016 0.90349103\n",
      " 0.90215572 0.90277893 0.90313504 0.90277861 0.90251155 0.90277873\n",
      " 0.90188842 0.90295679 0.90260068 0.90233365 0.90242278 0.90322405\n",
      " 0.90215544 0.90277869 0.90251167 0.90206651 0.90260076 0.90242262\n",
      " 0.90206651 0.90260076 0.90242262 0.9023335  0.90277865 0.90251167\n",
      " 0.90242262 0.90358016 0.90349103 0.90215572 0.90277893 0.90313504\n",
      " 0.90277861 0.90251155 0.90277873 0.90188842 0.90295679 0.90260068\n",
      " 0.90233365 0.90242278 0.90322405 0.90215544 0.90277869 0.90251167\n",
      " 0.90206651 0.90260076 0.90242262 0.90206651 0.90260076 0.90242262\n",
      " 0.9023335  0.90277865 0.90251167        nan        nan        nan\n",
      "        nan        nan        nan        nan        nan        nan\n",
      "        nan        nan        nan        nan        nan        nan\n",
      "        nan        nan        nan        nan        nan        nan\n",
      "        nan        nan        nan        nan        nan        nan\n",
      " 0.90233346 0.90224441 0.90153231 0.90179949 0.90206647 0.90233369\n",
      " 0.9024227  0.90251175 0.90215564 0.90215552 0.90197751 0.90188858\n",
      " 0.90233346 0.90304579 0.90286778 0.9023335  0.90224453 0.90224465\n",
      " 0.90215552 0.90179945 0.90224457 0.90215552 0.90179945 0.90224457\n",
      " 0.90268957 0.90206647 0.90224461 0.90233346 0.90224441 0.90153231\n",
      " 0.90179949 0.90206647 0.90233369 0.9024227  0.90251175 0.90215564\n",
      " 0.90215552 0.90197751 0.90188858 0.90233346 0.90304579 0.90286778\n",
      " 0.9023335  0.90224453 0.90224465 0.90215552 0.90179945 0.90224457\n",
      " 0.90215552 0.90179945 0.90224457 0.90268957 0.90206647 0.90224461]\n",
      "  warnings.warn(\n",
      "C:\\Users\\fishm\\anaconda3\\lib\\site-packages\\sklearn\\base.py:1152: DataConversionWarning: A column-vector y was passed when a 1d array was expected. Please change the shape of y to (n_samples,), for example using ravel().\n",
      "  return fit_method(estimator, *args, **kwargs)\n"
     ]
    },
    {
     "data": {
      "text/html": [
       "<style>#sk-container-id-6 {color: black;}#sk-container-id-6 pre{padding: 0;}#sk-container-id-6 div.sk-toggleable {background-color: white;}#sk-container-id-6 label.sk-toggleable__label {cursor: pointer;display: block;width: 100%;margin-bottom: 0;padding: 0.3em;box-sizing: border-box;text-align: center;}#sk-container-id-6 label.sk-toggleable__label-arrow:before {content: \"▸\";float: left;margin-right: 0.25em;color: #696969;}#sk-container-id-6 label.sk-toggleable__label-arrow:hover:before {color: black;}#sk-container-id-6 div.sk-estimator:hover label.sk-toggleable__label-arrow:before {color: black;}#sk-container-id-6 div.sk-toggleable__content {max-height: 0;max-width: 0;overflow: hidden;text-align: left;background-color: #f0f8ff;}#sk-container-id-6 div.sk-toggleable__content pre {margin: 0.2em;color: black;border-radius: 0.25em;background-color: #f0f8ff;}#sk-container-id-6 input.sk-toggleable__control:checked~div.sk-toggleable__content {max-height: 200px;max-width: 100%;overflow: auto;}#sk-container-id-6 input.sk-toggleable__control:checked~label.sk-toggleable__label-arrow:before {content: \"▾\";}#sk-container-id-6 div.sk-estimator input.sk-toggleable__control:checked~label.sk-toggleable__label {background-color: #d4ebff;}#sk-container-id-6 div.sk-label input.sk-toggleable__control:checked~label.sk-toggleable__label {background-color: #d4ebff;}#sk-container-id-6 input.sk-hidden--visually {border: 0;clip: rect(1px 1px 1px 1px);clip: rect(1px, 1px, 1px, 1px);height: 1px;margin: -1px;overflow: hidden;padding: 0;position: absolute;width: 1px;}#sk-container-id-6 div.sk-estimator {font-family: monospace;background-color: #f0f8ff;border: 1px dotted black;border-radius: 0.25em;box-sizing: border-box;margin-bottom: 0.5em;}#sk-container-id-6 div.sk-estimator:hover {background-color: #d4ebff;}#sk-container-id-6 div.sk-parallel-item::after {content: \"\";width: 100%;border-bottom: 1px solid gray;flex-grow: 1;}#sk-container-id-6 div.sk-label:hover label.sk-toggleable__label {background-color: #d4ebff;}#sk-container-id-6 div.sk-serial::before {content: \"\";position: absolute;border-left: 1px solid gray;box-sizing: border-box;top: 0;bottom: 0;left: 50%;z-index: 0;}#sk-container-id-6 div.sk-serial {display: flex;flex-direction: column;align-items: center;background-color: white;padding-right: 0.2em;padding-left: 0.2em;position: relative;}#sk-container-id-6 div.sk-item {position: relative;z-index: 1;}#sk-container-id-6 div.sk-parallel {display: flex;align-items: stretch;justify-content: center;background-color: white;position: relative;}#sk-container-id-6 div.sk-item::before, #sk-container-id-6 div.sk-parallel-item::before {content: \"\";position: absolute;border-left: 1px solid gray;box-sizing: border-box;top: 0;bottom: 0;left: 50%;z-index: -1;}#sk-container-id-6 div.sk-parallel-item {display: flex;flex-direction: column;z-index: 1;position: relative;background-color: white;}#sk-container-id-6 div.sk-parallel-item:first-child::after {align-self: flex-end;width: 50%;}#sk-container-id-6 div.sk-parallel-item:last-child::after {align-self: flex-start;width: 50%;}#sk-container-id-6 div.sk-parallel-item:only-child::after {width: 0;}#sk-container-id-6 div.sk-dashed-wrapped {border: 1px dashed gray;margin: 0 0.4em 0.5em 0.4em;box-sizing: border-box;padding-bottom: 0.4em;background-color: white;}#sk-container-id-6 div.sk-label label {font-family: monospace;font-weight: bold;display: inline-block;line-height: 1.2em;}#sk-container-id-6 div.sk-label-container {text-align: center;}#sk-container-id-6 div.sk-container {/* jupyter's `normalize.less` sets `[hidden] { display: none; }` but bootstrap.min.css set `[hidden] { display: none !important; }` so we also need the `!important` here to be able to override the default hidden behavior on the sphinx rendered scikit-learn.org. See: https://github.com/scikit-learn/scikit-learn/issues/21755 */display: inline-block !important;position: relative;}#sk-container-id-6 div.sk-text-repr-fallback {display: none;}</style><div id=\"sk-container-id-6\" class=\"sk-top-container\"><div class=\"sk-text-repr-fallback\"><pre>GridSearchCV(cv=5, estimator=RandomForestClassifier(random_state=42), n_jobs=-1,\n",
       "             param_grid={&#x27;max_depth&#x27;: [5, 10, 15, None],\n",
       "                         &#x27;max_features&#x27;: [&#x27;auto&#x27;, &#x27;sqrt&#x27;, &#x27;log2&#x27;],\n",
       "                         &#x27;min_samples_leaf&#x27;: [1, 2, 4],\n",
       "                         &#x27;min_samples_split&#x27;: [2, 5, 10],\n",
       "                         &#x27;n_estimators&#x27;: [100, 200, 300]},\n",
       "             scoring=&#x27;accuracy&#x27;)</pre><b>In a Jupyter environment, please rerun this cell to show the HTML representation or trust the notebook. <br />On GitHub, the HTML representation is unable to render, please try loading this page with nbviewer.org.</b></div><div class=\"sk-container\" hidden><div class=\"sk-item sk-dashed-wrapped\"><div class=\"sk-label-container\"><div class=\"sk-label sk-toggleable\"><input class=\"sk-toggleable__control sk-hidden--visually\" id=\"sk-estimator-id-16\" type=\"checkbox\" ><label for=\"sk-estimator-id-16\" class=\"sk-toggleable__label sk-toggleable__label-arrow\">GridSearchCV</label><div class=\"sk-toggleable__content\"><pre>GridSearchCV(cv=5, estimator=RandomForestClassifier(random_state=42), n_jobs=-1,\n",
       "             param_grid={&#x27;max_depth&#x27;: [5, 10, 15, None],\n",
       "                         &#x27;max_features&#x27;: [&#x27;auto&#x27;, &#x27;sqrt&#x27;, &#x27;log2&#x27;],\n",
       "                         &#x27;min_samples_leaf&#x27;: [1, 2, 4],\n",
       "                         &#x27;min_samples_split&#x27;: [2, 5, 10],\n",
       "                         &#x27;n_estimators&#x27;: [100, 200, 300]},\n",
       "             scoring=&#x27;accuracy&#x27;)</pre></div></div></div><div class=\"sk-parallel\"><div class=\"sk-parallel-item\"><div class=\"sk-item\"><div class=\"sk-label-container\"><div class=\"sk-label sk-toggleable\"><input class=\"sk-toggleable__control sk-hidden--visually\" id=\"sk-estimator-id-17\" type=\"checkbox\" ><label for=\"sk-estimator-id-17\" class=\"sk-toggleable__label sk-toggleable__label-arrow\">estimator: RandomForestClassifier</label><div class=\"sk-toggleable__content\"><pre>RandomForestClassifier(random_state=42)</pre></div></div></div><div class=\"sk-serial\"><div class=\"sk-item\"><div class=\"sk-estimator sk-toggleable\"><input class=\"sk-toggleable__control sk-hidden--visually\" id=\"sk-estimator-id-18\" type=\"checkbox\" ><label for=\"sk-estimator-id-18\" class=\"sk-toggleable__label sk-toggleable__label-arrow\">RandomForestClassifier</label><div class=\"sk-toggleable__content\"><pre>RandomForestClassifier(random_state=42)</pre></div></div></div></div></div></div></div></div></div></div>"
      ],
      "text/plain": [
       "GridSearchCV(cv=5, estimator=RandomForestClassifier(random_state=42), n_jobs=-1,\n",
       "             param_grid={'max_depth': [5, 10, 15, None],\n",
       "                         'max_features': ['auto', 'sqrt', 'log2'],\n",
       "                         'min_samples_leaf': [1, 2, 4],\n",
       "                         'min_samples_split': [2, 5, 10],\n",
       "                         'n_estimators': [100, 200, 300]},\n",
       "             scoring='accuracy')"
      ]
     },
     "execution_count": 37,
     "metadata": {},
     "output_type": "execute_result"
    }
   ],
   "source": [
    "from sklearn.ensemble import RandomForestClassifier\n",
    "from sklearn.model_selection import GridSearchCV\n",
    "from sklearn.model_selection import GridSearchCV\n",
    "from sklearn.linear_model import LogisticRegression\n",
    "\n",
    "# Define parameter grid\n",
    "param_grid_lr = {\n",
    "    'C': [0.01, 0.1, 1, 10, 100],\n",
    "    'penalty': ['l1', 'l2'],\n",
    "    'solver': ['liblinear']  # 'liblinear' supports L1 regularization\n",
    "}\n",
    "\n",
    "# Define parameter grid for Random Forest\n",
    "param_grid_rf = {\n",
    "    'n_estimators': [100, 200, 300],\n",
    "    'max_depth': [5, 10, 15, None],\n",
    "    'min_samples_split': [2, 5, 10],\n",
    "    'min_samples_leaf': [1, 2, 4],\n",
    "    'max_features': ['auto', 'sqrt', 'log2']\n",
    "}\n",
    "\n",
    "# Initialize logistic regression model\n",
    "log_reg = LogisticRegression()\n",
    "\n",
    "# Initialize Random Forest model\n",
    "rf = RandomForestClassifier(random_state=42)\n",
    "\n",
    "# Perform GridSearchCV to tune hyperparameters\n",
    "grid_search_lr = GridSearchCV(log_reg, param_grid_lr, cv=5, n_jobs=-1, scoring='accuracy')\n",
    "grid_search_lr.fit(X_train_scaled, y_train)\n",
    "\n",
    "# Perform GridSearchCV\n",
    "grid_search_rf = GridSearchCV(rf, param_grid_rf, cv=5, n_jobs=-1, scoring='accuracy')\n",
    "grid_search_rf.fit(X_train_scaled, y_train)"
   ]
  },
  {
   "cell_type": "code",
   "execution_count": 38,
   "id": "1f9c2d85-fb83-49ff-a2bc-912c38424a9a",
   "metadata": {
    "tags": []
   },
   "outputs": [
    {
     "name": "stdout",
     "output_type": "stream",
     "text": [
      "Logistic Regression Accuracy: 0.8856837606837606\n",
      "Random Forest Accuracy: 0.8938746438746439\n",
      "Logistic Regression Classification Report:\n",
      "               precision    recall  f1-score   support\n",
      "\n",
      "           0       0.83      0.94      0.88      1230\n",
      "           1       0.94      0.85      0.89      1578\n",
      "\n",
      "    accuracy                           0.89      2808\n",
      "   macro avg       0.89      0.89      0.89      2808\n",
      "weighted avg       0.89      0.89      0.89      2808\n",
      "\n",
      "Random Forest Classification Report:\n",
      "               precision    recall  f1-score   support\n",
      "\n",
      "           0       0.84      0.93      0.88      1230\n",
      "           1       0.94      0.87      0.90      1578\n",
      "\n",
      "    accuracy                           0.89      2808\n",
      "   macro avg       0.89      0.90      0.89      2808\n",
      "weighted avg       0.90      0.89      0.89      2808\n",
      "\n",
      "Logistic Regression ROC-AUC: 0.8912068379238925\n",
      "Random Forest ROC-AUC: 0.8978670128906613\n"
     ]
    }
   ],
   "source": [
    "from sklearn.metrics import roc_auc_score, classification_report\n",
    "\n",
    "# Fit the best models and predict\n",
    "best_log_reg = grid_search_lr.best_estimator_\n",
    "best_rf = grid_search_rf.best_estimator_\n",
    "\n",
    "log_reg_pred = best_log_reg.predict(X_test_scaled)\n",
    "rf_pred = best_rf.predict(X_test_scaled)\n",
    "\n",
    "# Print Accuracy\n",
    "print(\"Logistic Regression Accuracy:\", accuracy_score(y_test, log_reg_pred))\n",
    "print(\"Random Forest Accuracy:\", accuracy_score(y_test, rf_pred))\n",
    "\n",
    "# Print Classification Report for each model\n",
    "print(\"Logistic Regression Classification Report:\\n\", classification_report(y_test, log_reg_pred))\n",
    "print(\"Random Forest Classification Report:\\n\", classification_report(y_test, rf_pred))\n",
    "\n",
    "# ROC-AUC Score\n",
    "print(\"Logistic Regression ROC-AUC:\", roc_auc_score(y_test, log_reg_pred))\n",
    "print(\"Random Forest ROC-AUC:\", roc_auc_score(y_test, rf_pred))\n"
   ]
  },
  {
   "cell_type": "code",
   "execution_count": null,
   "id": "fad94297-4c8c-4188-894d-67ce31697393",
   "metadata": {},
   "outputs": [],
   "source": []
  },
  {
   "cell_type": "code",
   "execution_count": null,
   "id": "724709f5-9ddf-486e-b49e-4775539b6a01",
   "metadata": {},
   "outputs": [],
   "source": []
  }
 ],
 "metadata": {
  "kernelspec": {
   "display_name": "Python 3 (ipykernel)",
   "language": "python",
   "name": "python3"
  },
  "language_info": {
   "codemirror_mode": {
    "name": "ipython",
    "version": 3
   },
   "file_extension": ".py",
   "mimetype": "text/x-python",
   "name": "python",
   "nbconvert_exporter": "python",
   "pygments_lexer": "ipython3",
   "version": "3.10.9"
  }
 },
 "nbformat": 4,
 "nbformat_minor": 5
}
