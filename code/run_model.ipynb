{
 "cells": [
  {
   "cell_type": "code",
   "execution_count": 9,
   "id": "366058f8-a1a6-4873-a2b9-4cc879e3d221",
   "metadata": {
    "tags": []
   },
   "outputs": [
    {
     "name": "stdout",
     "output_type": "stream",
     "text": [
      "Clean Test Features rows: 1461\n",
      "Clean Test Labels rows: 1461\n",
      "Test Accuracy: 0.5496\n",
      "Classification Report:\n",
      "              precision    recall  f1-score   support\n",
      "\n",
      "           0       0.50      0.98      0.66       652\n",
      "           1       0.94      0.20      0.33       809\n",
      "\n",
      "    accuracy                           0.55      1461\n",
      "   macro avg       0.72      0.59      0.50      1461\n",
      "weighted avg       0.74      0.55      0.48      1461\n",
      "\n"
     ]
    },
    {
     "name": "stderr",
     "output_type": "stream",
     "text": [
      "C:\\Users\\fishm\\anaconda3\\lib\\site-packages\\sklearn\\base.py:465: UserWarning: X does not have valid feature names, but LogisticRegression was fitted with feature names\n",
      "  warnings.warn(\n"
     ]
    }
   ],
   "source": [
    "from sklearn.linear_model import LogisticRegression\n",
    "from sklearn.metrics import classification_report, accuracy_score\n",
    "from sklearn.preprocessing import StandardScaler\n",
    "import pandas as pd\n",
    "import joblib\n",
    "\n",
    "# Load the trained model\n",
    "logreg_model = joblib.load('logreg_model2.pkl')\n",
    "\n",
    "# Load the test data (week 9)\n",
    "test_feat = pd.read_csv('../data/processed_data/testing_features.csv')\n",
    "\n",
    "# Load the training data to ensure feature consistency\n",
    "train_features = pd.read_csv('../data/processed_data/training_features.csv')\n",
    "\n",
    "# Check that the features in the test set match the training set\n",
    "test_features = test_feat[train_features.columns]  # Align columns between train and test set\n",
    "\n",
    "# Fit the scaler on the training data\n",
    "scaler = StandardScaler()\n",
    "scaler.fit(train_features)  # Fit the scaler on the training data\n",
    "\n",
    "# Scale the test features using the fitted scaler\n",
    "X_test_scaled = scaler.transform(test_features)  # Only transform the test data, don't fit\n",
    "\n",
    "# Load the true target labels (play_type) for the test data\n",
    "y_test = pd.read_csv('../data/processed_data/week_9_test_target.csv')  # Assuming this is the correct path\n",
    "\n",
    "# Drop rows with NaN values in both the features and the target labels\n",
    "test_feat_clean = test_feat.dropna()\n",
    "y_test_clean = y_test.loc[test_feat_clean.index]  # Ensure you're matching indices after dropping NaNs\n",
    "\n",
    "print(f\"Clean Test Features rows: {test_feat_clean.shape[0]}\")\n",
    "print(f\"Clean Test Labels rows: {y_test_clean.shape[0]}\")\n",
    "\n",
    "# Step 3: Make predictions on the scaled test data\n",
    "y_test_pred = logreg_model.predict(X_test_scaled)\n",
    "\n",
    "# Step 4: Evaluate the model on the test data\n",
    "accuracy = accuracy_score(y_test_clean, y_test_pred)\n",
    "print(f\"Test Accuracy: {accuracy:.4f}\")\n",
    "\n",
    "# Classification report for precision, recall, and F1-score\n",
    "print(\"Classification Report:\")\n",
    "print(classification_report(y_test_clean, y_test_pred))\n"
   ]
  },
  {
   "cell_type": "code",
   "execution_count": null,
   "id": "a3286a31-75be-42b5-9091-88c4d2a15b3d",
   "metadata": {},
   "outputs": [],
   "source": []
  }
 ],
 "metadata": {
  "kernelspec": {
   "display_name": "Python 3 (ipykernel)",
   "language": "python",
   "name": "python3"
  },
  "language_info": {
   "codemirror_mode": {
    "name": "ipython",
    "version": 3
   },
   "file_extension": ".py",
   "mimetype": "text/x-python",
   "name": "python",
   "nbconvert_exporter": "python",
   "pygments_lexer": "ipython3",
   "version": "3.10.9"
  }
 },
 "nbformat": 4,
 "nbformat_minor": 5
}
